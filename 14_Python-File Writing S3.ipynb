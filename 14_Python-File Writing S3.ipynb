{
 "cells": [
  {
   "cell_type": "markdown",
   "metadata": {},
   "source": [
    "<center> <img src =\"https://i.postimg.cc/1X8H7YYt/BITS-Logo.png\" width = \"400\" alt=\"BITS Pilani Logo\" /> </center>"
   ]
  },
  {
   "cell_type": "markdown",
   "metadata": {},
   "source": [
    "<font color='green'> <h1> <center> Python-File Writing </center> </h1> </font>"
   ]
  },
  {
   "cell_type": "markdown",
   "metadata": {},
   "source": [
    "<b> Writing to a file - using print() function<b>"
   ]
  },
  {
   "cell_type": "markdown",
   "metadata": {},
   "source": [
    "In order to write to a file, need to open the file first, in write mode. Then print() function can be used to write contents into the file. In order to persist the changes, the file needs to be closed. "
   ]
  },
  {
   "cell_type": "code",
   "execution_count": 1,
   "metadata": {},
   "outputs": [],
   "source": [
    "file_name = \"first_file.txt\"  #name of file in which content needs to be added\n",
    "\n",
    "file = open(file_name, 'w') # open it in write mode\n",
    "\n",
    "print('This is file handling', file= file)   # add some content into the file\n",
    "print('This is file writing', file= file)\n",
    "print('This will add content into the file', file= file)\n",
    "\n",
    "file.close() #close the file"
   ]
  },
  {
   "cell_type": "markdown",
   "metadata": {},
   "source": [
    "Lets read back the content of file. "
   ]
  },
  {
   "cell_type": "code",
   "execution_count": 2,
   "metadata": {},
   "outputs": [
    {
     "name": "stdout",
     "output_type": "stream",
     "text": [
      "This is file handling\n",
      "This is file writing\n",
      "This will add content into the file\n",
      "\n"
     ]
    }
   ],
   "source": [
    "file_name = \"first_file.txt\"\n",
    "\n",
    "file = open(file_name)\n",
    "print(file.read())"
   ]
  },
  {
   "cell_type": "markdown",
   "metadata": {},
   "source": [
    "Lets add the content into file again."
   ]
  },
  {
   "cell_type": "code",
   "execution_count": 3,
   "metadata": {},
   "outputs": [],
   "source": [
    "file_name = \"first_file.txt\"  #name of file in which content needs to be added\n",
    "\n",
    "file = open(file_name, 'w') # open it in write mode\n",
    "\n",
    "print('This is differnt content', file= file)   # add some content into the file\n",
    "print('Lets see if this is persisted or not', file= file)\n",
    "\n",
    "file.close() #close the file"
   ]
  },
  {
   "cell_type": "markdown",
   "metadata": {},
   "source": [
    "Lets read back the content of file."
   ]
  },
  {
   "cell_type": "code",
   "execution_count": 4,
   "metadata": {},
   "outputs": [
    {
     "name": "stdout",
     "output_type": "stream",
     "text": [
      "This is differnt content\n",
      "Lets see if this is persisted or not\n",
      "\n"
     ]
    }
   ],
   "source": [
    "file_name = \"first_file.txt\"\n",
    "\n",
    "file = open(file_name)\n",
    "print(file.read())"
   ]
  },
  {
   "cell_type": "markdown",
   "metadata": {},
   "source": [
    "\"w\" (Write Mode)\n",
    "1. Opens the file for writing only.\n",
    "2. If the file already exists, it overwrites the content.\n",
    "3. If the file does not exist, it creates a new file."
   ]
  },
  {
   "cell_type": "markdown",
   "metadata": {},
   "source": [
    "<b> Another way to write into file - using write() function <b>"
   ]
  },
  {
   "cell_type": "markdown",
   "metadata": {},
   "source": [
    "Lets see how write() function can be used to write content into file. "
   ]
  },
  {
   "cell_type": "code",
   "execution_count": 5,
   "metadata": {},
   "outputs": [],
   "source": [
    "file_name = \"students.txt\"\n",
    "\n",
    "fout = open(file_name, \"w\")\n",
    "\n",
    "fout.write(\"Pravin, 10, 20, 30\\n\")\n",
    "fout.write(\"PYP, 11, 20, 33\\n\")\n",
    "fout.write(\"Pawar, 10, 34, 23\\n\")\n",
    "fout.write(\"PRavin Pawar, 8, 17, 34\\n\")\n",
    "\n",
    "fout.close()"
   ]
  },
  {
   "cell_type": "markdown",
   "metadata": {},
   "source": [
    "Lets read back the content of file."
   ]
  },
  {
   "cell_type": "code",
   "execution_count": 6,
   "metadata": {},
   "outputs": [
    {
     "name": "stdout",
     "output_type": "stream",
     "text": [
      "Pravin, 10, 20, 30\n",
      "\n",
      "PYP, 11, 20, 33\n",
      "\n",
      "Pawar, 10, 34, 23\n",
      "\n",
      "PRavin Pawar, 8, 17, 34\n",
      "\n"
     ]
    }
   ],
   "source": [
    "file_name = \"students.txt\"\n",
    "\n",
    "file = open(file_name)\n",
    "\n",
    "for line in file:\n",
    "    print(line)"
   ]
  },
  {
   "cell_type": "markdown",
   "metadata": {},
   "source": [
    "<b> Writing to a file - append mode <b>"
   ]
  },
  {
   "cell_type": "markdown",
   "metadata": {},
   "source": [
    "If one need to write to the existing file, then file can be opened in append mode as shown in following example."
   ]
  },
  {
   "cell_type": "code",
   "execution_count": 7,
   "metadata": {},
   "outputs": [],
   "source": [
    "file_name = \"students.txt\"\n",
    "\n",
    "fout = open(file_name, \"a\")\n",
    "fout.write(\"Rishikesh, 10, 20, 30\\n\")\n",
    "fout.write(\"Ritika, 10, 20, 30\\n\")\n",
    "fout.close()"
   ]
  },
  {
   "cell_type": "markdown",
   "metadata": {},
   "source": [
    "Why to close file?\n",
    "When you open a file, your operating system allocates resources (like memory) to keep it open. Closing the file frees up these resources, allowing the system to use them elsewhere.\n",
    "Writing Buffered Data to Disk:\n",
    "\n",
    "When writing to a file, data may be stored in a temporary buffer before actually being written to the disk. Calling file.close() ensures that any buffered data is flushed (written) to the file on disk, which helps prevent data loss."
   ]
  },
  {
   "cell_type": "code",
   "execution_count": null,
   "metadata": {},
   "outputs": [],
   "source": []
  }
 ],
 "metadata": {
  "kernelspec": {
   "display_name": "Python [conda env:base] *",
   "language": "python",
   "name": "conda-base-py"
  },
  "language_info": {
   "codemirror_mode": {
    "name": "ipython",
    "version": 3
   },
   "file_extension": ".py",
   "mimetype": "text/x-python",
   "name": "python",
   "nbconvert_exporter": "python",
   "pygments_lexer": "ipython3",
   "version": "3.12.7"
  }
 },
 "nbformat": 4,
 "nbformat_minor": 4
}
