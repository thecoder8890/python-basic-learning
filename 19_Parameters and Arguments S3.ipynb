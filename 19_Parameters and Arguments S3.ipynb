{
 "cells": [
  {
   "cell_type": "markdown",
   "metadata": {},
   "source": [
    "<center> <img src =\"https://i.postimg.cc/1X8H7YYt/BITS-Logo.png\" width = \"400\" alt=\"BITS Pilani Logo\" /> </center>"
   ]
  },
  {
   "cell_type": "markdown",
   "metadata": {},
   "source": [
    "\n",
    "<font color='green'> <h1> <center> Parameters and Arguments </center> </h1> </font>\n",
    "\n"
   ]
  },
  {
   "cell_type": "markdown",
   "metadata": {},
   "source": [
    "<b> Arguments<b>"
   ]
  },
  {
   "cell_type": "markdown",
   "metadata": {},
   "source": [
    "Arguments are values passed to the functions when function is called. "
   ]
  },
  {
   "cell_type": "markdown",
   "metadata": {},
   "source": [
    "<b>Parameters<b>"
   ]
  },
  {
   "cell_type": "markdown",
   "metadata": {},
   "source": [
    "Parameters are the values received by the function when it is called."
   ]
  },
  {
   "cell_type": "markdown",
   "metadata": {},
   "source": [
    "The variable names corresponding to the arguments and parameters can be same or different. For example, in the below example,both arguments and parameters are having same name but their scopes are different."
   ]
  },
  {
   "cell_type": "code",
   "execution_count": 1,
   "metadata": {},
   "outputs": [],
   "source": [
    "def print_lines(number): #number is parameter\n",
    "    for i in range(number):\n",
    "        print(\"Line \", i , \"    \")"
   ]
  },
  {
   "cell_type": "code",
   "execution_count": 2,
   "metadata": {},
   "outputs": [
    {
     "name": "stdout",
     "output_type": "stream",
     "text": [
      "Line  0     \n",
      "Line  1     \n",
      "Line  2     \n",
      "Line  3     \n",
      "Line  4     \n"
     ]
    }
   ],
   "source": [
    "number = 5\n",
    "print_lines(number)  # number is argument"
   ]
  },
  {
   "cell_type": "markdown",
   "metadata": {},
   "source": [
    "Argument name and parameter names can be different. "
   ]
  },
  {
   "cell_type": "code",
   "execution_count": 3,
   "metadata": {},
   "outputs": [],
   "source": [
    "def print_stars(times): #times is parameter\n",
    "    for i in range(times):\n",
    "        print(\"*\" * i)"
   ]
  },
  {
   "cell_type": "code",
   "execution_count": 4,
   "metadata": {},
   "outputs": [
    {
     "name": "stdout",
     "output_type": "stream",
     "text": [
      "\n",
      "*\n",
      "**\n",
      "***\n",
      "****\n"
     ]
    }
   ],
   "source": [
    "number_of_times = 5 # number_of_times is argument\n",
    "print_stars(number_of_times)"
   ]
  },
  {
   "cell_type": "markdown",
   "metadata": {},
   "source": [
    "One can call functions with multiple arguments."
   ]
  },
  {
   "cell_type": "code",
   "execution_count": 5,
   "metadata": {},
   "outputs": [],
   "source": [
    "def print_characters(character, times) :\n",
    "    for i in range(times):\n",
    "        print(character * i )"
   ]
  },
  {
   "cell_type": "code",
   "execution_count": 6,
   "metadata": {},
   "outputs": [
    {
     "name": "stdout",
     "output_type": "stream",
     "text": [
      "\n",
      "#\n",
      "##\n",
      "###\n",
      "####\n"
     ]
    }
   ],
   "source": [
    "print_characters(\"#\", 5)  # function called with multiple arguments"
   ]
  },
  {
   "cell_type": "markdown",
   "metadata": {},
   "source": [
    "Parameter names can be use while calling the functions. "
   ]
  },
  {
   "cell_type": "code",
   "execution_count": 7,
   "metadata": {},
   "outputs": [
    {
     "name": "stdout",
     "output_type": "stream",
     "text": [
      "\n",
      "*\n",
      "**\n",
      "***\n",
      "****\n"
     ]
    }
   ],
   "source": [
    "print_characters(character=\"*\", times = 5)  # function called with multiple arguments"
   ]
  },
  {
   "cell_type": "markdown",
   "metadata": {},
   "source": [
    "Parameter names can be use while calling the functions and their order can also be changed."
   ]
  },
  {
   "cell_type": "code",
   "execution_count": 8,
   "metadata": {},
   "outputs": [
    {
     "name": "stdout",
     "output_type": "stream",
     "text": [
      "\n",
      "@\n",
      "@@\n",
      "@@@\n"
     ]
    }
   ],
   "source": [
    "print_characters(times = 4, character=\"@\", )  # function called with multiple arguments"
   ]
  },
  {
   "cell_type": "markdown",
   "metadata": {},
   "source": [
    "<b> Default parameters<b>"
   ]
  },
  {
   "cell_type": "markdown",
   "metadata": {},
   "source": [
    "One can specify default value for parameter. This makes it optional. If caller sets value for it, then that value is used, otherwise default value is used.  "
   ]
  },
  {
   "cell_type": "code",
   "execution_count": 9,
   "metadata": {},
   "outputs": [],
   "source": [
    "#times has default value as 2\n",
    "def multiply(number, times = 2): \n",
    "    return number * times"
   ]
  },
  {
   "cell_type": "code",
   "execution_count": 10,
   "metadata": {},
   "outputs": [
    {
     "data": {
      "text/plain": [
       "10"
      ]
     },
     "execution_count": 10,
     "metadata": {},
     "output_type": "execute_result"
    }
   ],
   "source": [
    "#If times is not specified while calling multuply function , default of 2 is used\n",
    "multiply(5) "
   ]
  },
  {
   "cell_type": "code",
   "execution_count": 11,
   "metadata": {},
   "outputs": [
    {
     "data": {
      "text/plain": [
       "20"
      ]
     },
     "execution_count": 11,
     "metadata": {},
     "output_type": "execute_result"
    }
   ],
   "source": [
    "#If user specifies value for times then thats used\n",
    "multiply(5, 4)"
   ]
  },
  {
   "cell_type": "markdown",
   "metadata": {},
   "source": [
    "Default parameters needs to be specified at the end of parameter list, after all non default parameters."
   ]
  },
  {
   "cell_type": "code",
   "execution_count": 12,
   "metadata": {},
   "outputs": [],
   "source": [
    "def add_and_multiply(number1, number2, number3, times=4):\n",
    "    return (number1 + number2 + number3) * times"
   ]
  },
  {
   "cell_type": "code",
   "execution_count": 13,
   "metadata": {},
   "outputs": [
    {
     "data": {
      "text/plain": [
       "24"
      ]
     },
     "execution_count": 13,
     "metadata": {},
     "output_type": "execute_result"
    }
   ],
   "source": [
    "#user does not specify the argument value\n",
    "add_and_multiply(1, 2, 3)"
   ]
  },
  {
   "cell_type": "code",
   "execution_count": 14,
   "metadata": {},
   "outputs": [
    {
     "data": {
      "text/plain": [
       "30"
      ]
     },
     "execution_count": 14,
     "metadata": {},
     "output_type": "execute_result"
    }
   ],
   "source": [
    "#user specified value for default parameter as well\n",
    "add_and_multiply(1, 2, 3, 5)"
   ]
  },
  {
   "cell_type": "markdown",
   "metadata": {},
   "source": [
    " <b> Argument modification<b>"
   ]
  },
  {
   "cell_type": "markdown",
   "metadata": {},
   "source": [
    "Based on whether argument type is mutable or immutable, the passed argument is changed in the function. "
   ]
  },
  {
   "cell_type": "markdown",
   "metadata": {},
   "source": [
    "If the argument type is immutable like integer, string then it will not get modified in the called function as its immutable. "
   ]
  },
  {
   "cell_type": "code",
   "execution_count": 2,
   "metadata": {},
   "outputs": [],
   "source": [
    "def add(x):\n",
    "    return (x + 1)"
   ]
  },
  {
   "cell_type": "code",
   "execution_count": 3,
   "metadata": {},
   "outputs": [
    {
     "name": "stdout",
     "output_type": "stream",
     "text": [
      "a before function call  :  5\n",
      "a after function call  :  5\n"
     ]
    }
   ],
   "source": [
    "#if you call this function with x as 5, it will return 6, but it won't change the value of x itself. \\\n",
    "#This behavior is because immutable data types cannot be modified in place; instead, new values are created.\n",
    "a = 5\n",
    "print(\"a before function call  : \", a)\n",
    "add(a)\n",
    "print(\"a after function call  : \", a)"
   ]
  },
  {
   "cell_type": "code",
   "execution_count": 4,
   "metadata": {},
   "outputs": [],
   "source": [
    "def to_lower(string):\n",
    "    return string.lower()"
   ]
  },
  {
   "cell_type": "code",
   "execution_count": 5,
   "metadata": {},
   "outputs": [
    {
     "name": "stdout",
     "output_type": "stream",
     "text": [
      "string before function call  :  TeSt\n",
      "string after function call  :  TeSt\n"
     ]
    }
   ],
   "source": [
    "string = \"TeSt\"\n",
    "print(\"string before function call  : \", string)\n",
    "to_lower(string)\n",
    "print(\"string after function call  : \", string)"
   ]
  },
  {
   "cell_type": "markdown",
   "metadata": {},
   "source": [
    "If the argument type is mutable like list, then it can get modified in the called function as its mutable."
   ]
  },
  {
   "cell_type": "code",
   "execution_count": 6,
   "metadata": {},
   "outputs": [],
   "source": [
    "def add_element(list1):\n",
    "    list1.append(5)"
   ]
  },
  {
   "cell_type": "code",
   "execution_count": 7,
   "metadata": {},
   "outputs": [
    {
     "name": "stdout",
     "output_type": "stream",
     "text": [
      "list before function call :  [1, 2, 3, 4]\n",
      "list after function call :  [1, 2, 3, 4, 5]\n"
     ]
    }
   ],
   "source": [
    "list1 = [1, 2, 3, 4]\n",
    "print(\"list before function call : \", list1)\n",
    "add_element(list1)\n",
    "print(\"list after function call : \", list1)"
   ]
  },
  {
   "cell_type": "markdown",
   "metadata": {},
   "source": [
    "<b> Unknown number of parameters <b>"
   ]
  },
  {
   "cell_type": "markdown",
   "metadata": {},
   "source": [
    "If number of parameters passed to the function are unknown then \"*\" can be used in the parameter list to specify that number of parameters are unknown."
   ]
  },
  {
   "cell_type": "markdown",
   "metadata": {},
   "source": [
    "Lets define a product function that accepts variable number of arguments as input and returns product of those numbers."
   ]
  },
  {
   "cell_type": "code",
   "execution_count": 8,
   "metadata": {},
   "outputs": [],
   "source": [
    "def product(*times):\n",
    "    prod = 1\n",
    "    for i in times:\n",
    "        prod = prod * i \n",
    "    return prod    "
   ]
  },
  {
   "cell_type": "code",
   "execution_count": 9,
   "metadata": {},
   "outputs": [
    {
     "data": {
      "text/plain": [
       "24"
      ]
     },
     "execution_count": 9,
     "metadata": {},
     "output_type": "execute_result"
    }
   ],
   "source": [
    "#Calling product with three numbers\n",
    "product(2, 3, 4)"
   ]
  },
  {
   "cell_type": "code",
   "execution_count": 10,
   "metadata": {},
   "outputs": [
    {
     "data": {
      "text/plain": [
       "6"
      ]
     },
     "execution_count": 10,
     "metadata": {},
     "output_type": "execute_result"
    }
   ],
   "source": [
    "#Calling product with two numbers\n",
    "product(2, 3)"
   ]
  },
  {
   "cell_type": "markdown",
   "metadata": {},
   "source": [
    "<b> Returning multiple values from function <b>"
   ]
  },
  {
   "cell_type": "markdown",
   "metadata": {},
   "source": [
    "Lets write a function that returns the min, max values from a function that accepts list of numbers as input."
   ]
  },
  {
   "cell_type": "code",
   "execution_count": 11,
   "metadata": {},
   "outputs": [],
   "source": [
    "def get_min_max(list1):\n",
    "    min1 = min(list1)\n",
    "    max1 = max(list1)\n",
    "    return min1, max1"
   ]
  },
  {
   "cell_type": "code",
   "execution_count": 12,
   "metadata": {},
   "outputs": [
    {
     "name": "stdout",
     "output_type": "stream",
     "text": [
      "minimum    1\n",
      "maximum    56\n"
     ]
    }
   ],
   "source": [
    "list1 = [ 23, 45, 1, 56, 40]\n",
    "minimum, maximum = get_min_max(list1)\n",
    "print('minimum   ', minimum)\n",
    "print('maximum   ', maximum)"
   ]
  },
  {
   "cell_type": "code",
   "execution_count": null,
   "metadata": {},
   "outputs": [],
   "source": []
  }
 ],
 "metadata": {
  "kernelspec": {
   "display_name": "Python 3 (ipykernel)",
   "language": "python",
   "name": "python3"
  },
  "language_info": {
   "codemirror_mode": {
    "name": "ipython",
    "version": 3
   },
   "file_extension": ".py",
   "mimetype": "text/x-python",
   "name": "python",
   "nbconvert_exporter": "python",
   "pygments_lexer": "ipython3",
   "version": "3.11.7"
  }
 },
 "nbformat": 4,
 "nbformat_minor": 4
}
