{
 "cells": [
  {
   "cell_type": "markdown",
   "metadata": {},
   "source": [
    "<center> <img src =\"https://i.postimg.cc/1X8H7YYt/BITS-Logo.png\" width = \"400\" alt=\"BITS Pilani Logo\" /> </center>"
   ]
  },
  {
   "cell_type": "markdown",
   "metadata": {},
   "source": [
    "<font color='green'> <h1> <center> Python - Lists Operations </center> </h1> </font>"
   ]
  },
  {
   "cell_type": "markdown",
   "metadata": {},
   "source": [
    "<b> Operations on lists <b>"
   ]
  },
  {
   "cell_type": "markdown",
   "metadata": {},
   "source": [
    "Lists are mutable, i.e. the elements can be added, altered or removed from the list."
   ]
  },
  {
   "cell_type": "code",
   "execution_count": 1,
   "metadata": {},
   "outputs": [
    {
     "data": {
      "text/plain": [
       "[1, 2, 3, 4, 5]"
      ]
     },
     "execution_count": 1,
     "metadata": {},
     "output_type": "execute_result"
    }
   ],
   "source": [
    "my_list = [1 , 2, 3, 4, 5]\n",
    "my_list"
   ]
  },
  {
   "cell_type": "markdown",
   "metadata": {},
   "source": [
    "append() can be used to add an element to the list. "
   ]
  },
  {
   "cell_type": "code",
   "execution_count": 2,
   "metadata": {},
   "outputs": [
    {
     "data": {
      "text/plain": [
       "[1, 2, 3, 4, 5, 6]"
      ]
     },
     "execution_count": 2,
     "metadata": {},
     "output_type": "execute_result"
    }
   ],
   "source": [
    "my_list.append(6) # add new element 6 at end of list\n",
    "my_list"
   ]
  },
  {
   "cell_type": "code",
   "execution_count": 3,
   "metadata": {},
   "outputs": [
    {
     "data": {
      "text/plain": [
       "[1, 2, 3, 4, 5, 6, [7, 8]]"
      ]
     },
     "execution_count": 3,
     "metadata": {},
     "output_type": "execute_result"
    }
   ],
   "source": [
    "my_list.append([7,8]) # add list as new element in list\n",
    "my_list"
   ]
  },
  {
   "cell_type": "markdown",
   "metadata": {},
   "source": [
    "extend() can also be used to add list of elements into list."
   ]
  },
  {
   "cell_type": "code",
   "execution_count": 4,
   "metadata": {},
   "outputs": [
    {
     "data": {
      "text/plain": [
       "[1, 2, 3, 4, 5]"
      ]
     },
     "execution_count": 4,
     "metadata": {},
     "output_type": "execute_result"
    }
   ],
   "source": [
    "my_new_list = [1 , 2, 3, 4, 5]\n",
    "my_new_list"
   ]
  },
  {
   "cell_type": "code",
   "execution_count": 5,
   "metadata": {},
   "outputs": [
    {
     "data": {
      "text/plain": [
       "[1, 2, 3, 4, 5, 6]"
      ]
     },
     "execution_count": 5,
     "metadata": {},
     "output_type": "execute_result"
    }
   ],
   "source": [
    "my_new_list.extend([6])  # an element can be added into the list\n",
    "my_new_list"
   ]
  },
  {
   "cell_type": "code",
   "execution_count": 6,
   "metadata": {},
   "outputs": [
    {
     "data": {
      "text/plain": [
       "[1, 2, 3, 4, 5, 6, 7, 8, 9]"
      ]
     },
     "execution_count": 6,
     "metadata": {},
     "output_type": "execute_result"
    }
   ],
   "source": [
    "my_new_list.extend([7, 8, 9 ])  # list of elements can also be added into the list \n",
    "my_new_list"
   ]
  },
  {
   "cell_type": "markdown",
   "metadata": {},
   "source": [
    "insert() can be used to add an element at the desired position. "
   ]
  },
  {
   "cell_type": "code",
   "execution_count": 7,
   "metadata": {},
   "outputs": [
    {
     "data": {
      "text/plain": [
       "[1, 2, 3, 4, 5]"
      ]
     },
     "execution_count": 7,
     "metadata": {},
     "output_type": "execute_result"
    }
   ],
   "source": [
    "my_list = [1 , 2, 3, 4, 5]\n",
    "my_list"
   ]
  },
  {
   "cell_type": "code",
   "execution_count": 8,
   "metadata": {},
   "outputs": [
    {
     "data": {
      "text/plain": [
       "['a', 1, 2, 3, 4, 5]"
      ]
     },
     "execution_count": 8,
     "metadata": {},
     "output_type": "execute_result"
    }
   ],
   "source": [
    "my_list.insert(0, 'a')  #insert 'a' at first position\n",
    "my_list"
   ]
  },
  {
   "cell_type": "code",
   "execution_count": 9,
   "metadata": {},
   "outputs": [
    {
     "data": {
      "text/plain": [
       "['a', 1, 2, 3, 4, 5, '*****']"
      ]
     },
     "execution_count": 9,
     "metadata": {},
     "output_type": "execute_result"
    }
   ],
   "source": [
    "my_list.insert(len(my_list) , '*****')  #insert '***** at last position\n",
    "my_list"
   ]
  },
  {
   "cell_type": "markdown",
   "metadata": {},
   "source": [
    "remove() can be used to find the first occurance of the element and to remove it."
   ]
  },
  {
   "cell_type": "code",
   "execution_count": 10,
   "metadata": {},
   "outputs": [
    {
     "data": {
      "text/plain": [
       "[1, 2, 3, 4, 5]"
      ]
     },
     "execution_count": 10,
     "metadata": {},
     "output_type": "execute_result"
    }
   ],
   "source": [
    "my_list = [1 , 2, 3, 4, 5]\n",
    "my_list"
   ]
  },
  {
   "cell_type": "code",
   "execution_count": 11,
   "metadata": {},
   "outputs": [
    {
     "data": {
      "text/plain": [
       "[1, 2, 4, 5]"
      ]
     },
     "execution_count": 11,
     "metadata": {},
     "output_type": "execute_result"
    }
   ],
   "source": [
    "my_list.remove(3) # find first occurance of '3' and remove it from the list\n",
    "my_list"
   ]
  },
  {
   "cell_type": "markdown",
   "metadata": {},
   "source": [
    "pop() can be used to remove an element from specified index and store its value in a variable. "
   ]
  },
  {
   "cell_type": "code",
   "execution_count": 12,
   "metadata": {},
   "outputs": [
    {
     "data": {
      "text/plain": [
       "[1, 2, 3, 4, 5]"
      ]
     },
     "execution_count": 12,
     "metadata": {},
     "output_type": "execute_result"
    }
   ],
   "source": [
    "my_list = [1 , 2, 3, 4, 5]\n",
    "my_list"
   ]
  },
  {
   "cell_type": "code",
   "execution_count": 13,
   "metadata": {},
   "outputs": [
    {
     "name": "stdout",
     "output_type": "stream",
     "text": [
      "list---> [1, 2, 3, 4]\n",
      "popped element---> 5\n"
     ]
    }
   ],
   "source": [
    "popped_element = my_list.pop(4)\n",
    "print(\"list--->\", my_list)\n",
    "print(\"popped element--->\", popped_element)"
   ]
  },
  {
   "cell_type": "markdown",
   "metadata": {},
   "source": [
    "del() can also used to remove element from the list at specified location."
   ]
  },
  {
   "cell_type": "code",
   "execution_count": 14,
   "metadata": {},
   "outputs": [
    {
     "data": {
      "text/plain": [
       "[1, 2, 3, 4, 5]"
      ]
     },
     "execution_count": 14,
     "metadata": {},
     "output_type": "execute_result"
    }
   ],
   "source": [
    "my_list = [1 , 2, 3, 4, 5]\n",
    "my_list"
   ]
  },
  {
   "cell_type": "code",
   "execution_count": 15,
   "metadata": {},
   "outputs": [
    {
     "data": {
      "text/plain": [
       "[1, 3, 4, 5]"
      ]
     },
     "execution_count": 15,
     "metadata": {},
     "output_type": "execute_result"
    }
   ],
   "source": [
    "del(my_list[1])  # removes the element at 1 index\n",
    "my_list"
   ]
  },
  {
   "cell_type": "markdown",
   "metadata": {},
   "source": [
    "Assignment operator can be used to alter the element of list at the desired index."
   ]
  },
  {
   "cell_type": "code",
   "execution_count": 16,
   "metadata": {},
   "outputs": [
    {
     "data": {
      "text/plain": [
       "[1, 2, 3, 4, 5]"
      ]
     },
     "execution_count": 16,
     "metadata": {},
     "output_type": "execute_result"
    }
   ],
   "source": [
    "my_list = [1 , 2, 3, 4, 5]\n",
    "my_list"
   ]
  },
  {
   "cell_type": "code",
   "execution_count": 17,
   "metadata": {},
   "outputs": [
    {
     "data": {
      "text/plain": [
       "[1111, 2, 3, 4, 5]"
      ]
     },
     "execution_count": 17,
     "metadata": {},
     "output_type": "execute_result"
    }
   ],
   "source": [
    "my_list[0] = 1111  # change the element at first position to 1111\n",
    "my_list"
   ]
  },
  {
   "cell_type": "code",
   "execution_count": 18,
   "metadata": {},
   "outputs": [
    {
     "data": {
      "text/plain": [
       "[1111, 2, 'abcd', 4, 5]"
      ]
     },
     "execution_count": 18,
     "metadata": {},
     "output_type": "execute_result"
    }
   ],
   "source": [
    "my_list[2] = 'abcd'  # change the element at third position to 'abcd'\n",
    "my_list"
   ]
  },
  {
   "cell_type": "markdown",
   "metadata": {},
   "source": [
    "<b>List Methods<b>"
   ]
  },
  {
   "cell_type": "markdown",
   "metadata": {},
   "source": [
    "sort() can be used to sort the list elements. Default is ascending order."
   ]
  },
  {
   "cell_type": "code",
   "execution_count": 19,
   "metadata": {},
   "outputs": [
    {
     "name": "stdout",
     "output_type": "stream",
     "text": [
      "list before sorting---> [11, 2, 39, 4, 57]\n",
      "\n",
      "list after sorting---> [2, 4, 11, 39, 57]\n"
     ]
    }
   ],
   "source": [
    "my_list = [11 , 2, 39, 4, 57]\n",
    "print(\"list before sorting--->\", my_list)\n",
    "\n",
    "print()\n",
    "\n",
    "my_list.sort()\n",
    "print(\"list after sorting--->\", my_list)"
   ]
  },
  {
   "cell_type": "markdown",
   "metadata": {},
   "source": [
    "sort order can be specified as argument. Default is reverse = false. Arranges elements in descending order"
   ]
  },
  {
   "cell_type": "code",
   "execution_count": 20,
   "metadata": {},
   "outputs": [
    {
     "name": "stdout",
     "output_type": "stream",
     "text": [
      "list before sorting---> [11, 2, 39, 4, 57]\n",
      "\n",
      "list after sorting---> [57, 39, 11, 4, 2]\n"
     ]
    }
   ],
   "source": [
    "my_list = [11 , 2, 39, 4, 57]\n",
    "print(\"list before sorting--->\", my_list)\n",
    "\n",
    "print()\n",
    "\n",
    "my_list.sort(reverse=True)\n",
    "print(\"list after sorting--->\", my_list)"
   ]
  },
  {
   "cell_type": "markdown",
   "metadata": {},
   "source": [
    "Alternative way to get the sorted list using sorted() method. Original list is not modified."
   ]
  },
  {
   "cell_type": "code",
   "execution_count": 22,
   "metadata": {},
   "outputs": [
    {
     "name": "stdout",
     "output_type": "stream",
     "text": [
      "list before sorted---> [11, 2, 39, 4, 57]\n",
      "\n",
      "list after reversing the order---> [2, 4, 11, 39, 57]\n"
     ]
    }
   ],
   "source": [
    "my_list = [11 , 2, 39, 4, 57]\n",
    "print(\"list before sorted--->\", my_list)\n",
    "\n",
    "print()\n",
    "\n",
    "print(\"list after reversing the order--->\", list(sorted(my_list)))"
   ]
  },
  {
   "cell_type": "markdown",
   "metadata": {},
   "source": [
    "reverse() can be used to reverse the order of list elements. "
   ]
  },
  {
   "cell_type": "code",
   "execution_count": 23,
   "metadata": {},
   "outputs": [
    {
     "name": "stdout",
     "output_type": "stream",
     "text": [
      "list before reversing the order---> [11, 2, 39, 4, 57]\n",
      "\n",
      "list after reversing the order---> [57, 4, 39, 2, 11]\n"
     ]
    }
   ],
   "source": [
    "my_list = [11 , 2, 39, 4, 57]\n",
    "print(\"list before reversing the order--->\", my_list)\n",
    "\n",
    "print()\n",
    "\n",
    "my_list.reverse()\n",
    "print(\"list after reversing the order--->\", my_list)"
   ]
  },
  {
   "cell_type": "markdown",
   "metadata": {},
   "source": [
    "Alternative way to get the reversed list using reversed() method. Original list is not modified."
   ]
  },
  {
   "cell_type": "code",
   "execution_count": 24,
   "metadata": {},
   "outputs": [
    {
     "name": "stdout",
     "output_type": "stream",
     "text": [
      "list before reversing the order---> [11, 2, 39, 4, 57]\n",
      "\n",
      "list after reversing the order---> [57, 4, 39, 2, 11]\n"
     ]
    }
   ],
   "source": [
    "my_list = [11 , 2, 39, 4, 57]\n",
    "print(\"list before reversing the order--->\", my_list)\n",
    "\n",
    "print()\n",
    "\n",
    "print(\"list after reversing the order--->\", list(reversed(my_list)))"
   ]
  },
  {
   "cell_type": "markdown",
   "metadata": {},
   "source": [
    "index(x) can be used to determine the location of first occurance of element 'x' in the list "
   ]
  },
  {
   "cell_type": "code",
   "execution_count": 25,
   "metadata": {},
   "outputs": [
    {
     "data": {
      "text/plain": [
       "2"
      ]
     },
     "execution_count": 25,
     "metadata": {},
     "output_type": "execute_result"
    }
   ],
   "source": [
    "my_list = [11 , 2, 39, 4, 57]\n",
    "my_list.index(39)  # find the location at which element 39 first occures"
   ]
  },
  {
   "cell_type": "code",
   "execution_count": 26,
   "metadata": {},
   "outputs": [
    {
     "ename": "ValueError",
     "evalue": "45 is not in list",
     "output_type": "error",
     "traceback": [
      "\u001b[1;31m---------------------------------------------------------------------------\u001b[0m",
      "\u001b[1;31mValueError\u001b[0m                                Traceback (most recent call last)",
      "Cell \u001b[1;32mIn[26], line 2\u001b[0m\n\u001b[0;32m      1\u001b[0m my_list \u001b[38;5;241m=\u001b[39m [\u001b[38;5;241m11\u001b[39m , \u001b[38;5;241m2\u001b[39m, \u001b[38;5;241m39\u001b[39m, \u001b[38;5;241m4\u001b[39m, \u001b[38;5;241m57\u001b[39m]\n\u001b[1;32m----> 2\u001b[0m my_list\u001b[38;5;241m.\u001b[39mindex(\u001b[38;5;241m45\u001b[39m)\n",
      "\u001b[1;31mValueError\u001b[0m: 45 is not in list"
     ]
    }
   ],
   "source": [
    "my_list = [11 , 2, 39, 4, 57]\n",
    "my_list.index(45)  # find the location at which element 45 first occures, throws error as element not present in the list"
   ]
  },
  {
   "cell_type": "markdown",
   "metadata": {},
   "source": [
    "count(x) can be used to determine the count of occurances of element 'x' in the list"
   ]
  },
  {
   "cell_type": "code",
   "execution_count": 27,
   "metadata": {},
   "outputs": [
    {
     "data": {
      "text/plain": [
       "3"
      ]
     },
     "execution_count": 27,
     "metadata": {},
     "output_type": "execute_result"
    }
   ],
   "source": [
    "my_list = [11 , 2, 39, 4, 57, 39, 34, 39 ]\n",
    "my_list.count(39)  # count the number of times 39 appears in the list"
   ]
  },
  {
   "cell_type": "code",
   "execution_count": 28,
   "metadata": {},
   "outputs": [
    {
     "data": {
      "text/plain": [
       "0"
      ]
     },
     "execution_count": 28,
     "metadata": {},
     "output_type": "execute_result"
    }
   ],
   "source": [
    "my_list = [11 , 2, 39, 4, 57, 39, 34, 39 ]\n",
    "my_list.count(9)  # count the number of times 9 appears in the list"
   ]
  },
  {
   "cell_type": "markdown",
   "metadata": {},
   "source": [
    "clear() can be used to remove all the elements of the list. "
   ]
  },
  {
   "cell_type": "code",
   "execution_count": 29,
   "metadata": {},
   "outputs": [
    {
     "name": "stdout",
     "output_type": "stream",
     "text": [
      "Original list --->  [11, 2, 39, 4, 57, 39, 34, 39]\n",
      "List after clearning the elements--->  []\n"
     ]
    }
   ],
   "source": [
    "my_list = [11 , 2, 39, 4, 57, 39, 34, 39 ]\n",
    "print(\"Original list ---> \", my_list)\n",
    "\n",
    "my_list.clear()\n",
    "print(\"List after clearning the elements---> \", my_list)"
   ]
  },
  {
   "cell_type": "markdown",
   "metadata": {},
   "source": [
    "<b> Splitting <b>"
   ]
  },
  {
   "cell_type": "markdown",
   "metadata": {},
   "source": [
    "The split method returns a list of the words of string, assuming that words are separated by white spaces. "
   ]
  },
  {
   "cell_type": "code",
   "execution_count": 30,
   "metadata": {},
   "outputs": [
    {
     "data": {
      "text/plain": [
       "'this is my string'"
      ]
     },
     "execution_count": 30,
     "metadata": {},
     "output_type": "execute_result"
    }
   ],
   "source": [
    "my_string = \"this is my string\"\n",
    "my_string"
   ]
  },
  {
   "cell_type": "code",
   "execution_count": 31,
   "metadata": {},
   "outputs": [
    {
     "data": {
      "text/plain": [
       "['this', 'is', 'my', 'string']"
      ]
     },
     "execution_count": 31,
     "metadata": {},
     "output_type": "execute_result"
    }
   ],
   "source": [
    "my_string.split()  # returns the list of words based on white space as delimeter"
   ]
  },
  {
   "cell_type": "code",
   "execution_count": 32,
   "metadata": {},
   "outputs": [
    {
     "data": {
      "text/plain": [
       "'this, is, comma, separated, string'"
      ]
     },
     "execution_count": 32,
     "metadata": {},
     "output_type": "execute_result"
    }
   ],
   "source": [
    "comma_separated_string = \"this, is, comma, separated, string\"\n",
    "comma_separated_string"
   ]
  },
  {
   "cell_type": "code",
   "execution_count": 33,
   "metadata": {},
   "outputs": [
    {
     "data": {
      "text/plain": [
       "['this', ' is', ' comma', ' separated', ' string']"
      ]
     },
     "execution_count": 33,
     "metadata": {},
     "output_type": "execute_result"
    }
   ],
   "source": [
    "list1 = comma_separated_string.split(',')  # returns the list of words based on comma as delimeter\n",
    "list1"
   ]
  },
  {
   "cell_type": "markdown",
   "metadata": {},
   "source": [
    "<b> List Comprehensions<b>"
   ]
  },
  {
   "cell_type": "markdown",
   "metadata": {},
   "source": [
    "List comprehensions are powerful way to create the lists. "
   ]
  },
  {
   "cell_type": "code",
   "execution_count": 34,
   "metadata": {},
   "outputs": [
    {
     "data": {
      "text/plain": [
       "[0, 1, 2]"
      ]
     },
     "execution_count": 34,
     "metadata": {},
     "output_type": "execute_result"
    }
   ],
   "source": [
    "list1 = [i for i in range(3)]  # creates a list of 3 elements starting from 0 \n",
    "list1"
   ]
  },
  {
   "cell_type": "code",
   "execution_count": 35,
   "metadata": {},
   "outputs": [
    {
     "data": {
      "text/plain": [
       "[0, 1, 4, 9, 16]"
      ]
     },
     "execution_count": 35,
     "metadata": {},
     "output_type": "execute_result"
    }
   ],
   "source": [
    "list2 = [i*i for i in range(5)]  # creates a list of 5 elements starting from 0 to 4 , each element having value as square \n",
    "list2"
   ]
  },
  {
   "cell_type": "code",
   "execution_count": 36,
   "metadata": {},
   "outputs": [
    {
     "data": {
      "text/plain": [
       "[1, 8, 27]"
      ]
     },
     "execution_count": 36,
     "metadata": {},
     "output_type": "execute_result"
    }
   ],
   "source": [
    "list3 = [i*i*i for i in range(1, 4)]  # creates a list of 3 elements starting from 1 to 3 , each element having value as cube \n",
    "list3"
   ]
  },
  {
   "cell_type": "code",
   "execution_count": 37,
   "metadata": {},
   "outputs": [
    {
     "data": {
      "text/plain": [
       "[10, 20, 30]"
      ]
     },
     "execution_count": 37,
     "metadata": {},
     "output_type": "execute_result"
    }
   ],
   "source": [
    "L = [ 1, 2, 3]\n",
    "list4 = [i*10 for i in L] # create a list whose elements are 10 times the elements of original list\n",
    "list4"
   ]
  },
  {
   "cell_type": "markdown",
   "metadata": {},
   "source": [
    "# Exercise"
   ]
  },
  {
   "cell_type": "markdown",
   "metadata": {},
   "source": [
    "Q1. Write a program that accepts 5 lists from the user, each one of which contains three values in it assignment marks, midsem marks and compre marks. <br>\n",
    "    (a) Compute the total marks obtained by each student <br>\n",
    "    (b) Print out the average of the class. "
   ]
  },
  {
   "cell_type": "code",
   "execution_count": null,
   "metadata": {},
   "outputs": [],
   "source": [
    "#Try it here\n"
   ]
  },
  {
   "cell_type": "markdown",
   "metadata": {},
   "source": [
    "Q2. Ask a use to enter a sentence <br>\n",
    "    (a) Print out the third word of sentence <br>\n",
    "    (b) Print out every second word of sentence"
   ]
  },
  {
   "cell_type": "code",
   "execution_count": null,
   "metadata": {},
   "outputs": [],
   "source": [
    "#Try it here\n"
   ]
  },
  {
   "cell_type": "markdown",
   "metadata": {},
   "source": [
    "Q3. Create the following lists using a for loop.<br>\n",
    "    (a) A list consisting of the integers 0 through 49<br>\n",
    "    (b) A list containing the squares of integers 1 through 50 <br>\n",
    "    (c) The list ['aa', 'bb', 'cc'.....] that ends with 26 th letter 'z'.\n",
    "    "
   ]
  },
  {
   "cell_type": "code",
   "execution_count": null,
   "metadata": {},
   "outputs": [],
   "source": [
    "#Try it here\n"
   ]
  },
  {
   "cell_type": "markdown",
   "metadata": {},
   "source": [
    "Q4. Write a program that counts the number of occurances of word in a sentence entered by user without using built in function."
   ]
  },
  {
   "cell_type": "code",
   "execution_count": null,
   "metadata": {},
   "outputs": [],
   "source": [
    "#Try it here\n"
   ]
  },
  {
   "cell_type": "markdown",
   "metadata": {},
   "source": [
    "Q5. Ask a user to enter a list of strings. Create a new list that consists of those strings with their first characters removed."
   ]
  },
  {
   "cell_type": "code",
   "execution_count": null,
   "metadata": {},
   "outputs": [],
   "source": [
    "#Try it here\n"
   ]
  },
  {
   "cell_type": "markdown",
   "metadata": {},
   "source": [
    "# Answer"
   ]
  },
  {
   "cell_type": "code",
   "execution_count": null,
   "metadata": {},
   "outputs": [],
   "source": [
    "#Q1 solution\n",
    "\n",
    "count = 2\n",
    "\n",
    "mark_lists = []\n",
    "\n",
    "for i in range(count):\n",
    "    str_values = input(\"Enter a list containing assignment, midsem and regular exam marks separated by comma\\n\")\n",
    "    mark_list = str_values.split(\",\")\n",
    "    mark_list = [int(mark) for mark in mark_list]\n",
    "    mark_lists.append(mark_list)\n",
    "\n",
    "i = 1 \n",
    "grand_total = 0 \n",
    "\n",
    "print(\"\\n(ID)   Total\")\n",
    "for mark_list in mark_lists:\n",
    "    total = sum(mark_list)\n",
    "    print(\"(\", i, \") \", total)\n",
    "    grand_total = grand_total + total\n",
    "    i = i + 1\n",
    "\n",
    "average =   grand_total / len(mark_lists)  \n",
    "    \n",
    "print(\"\\n Average of the class : \", average)"
   ]
  },
  {
   "cell_type": "code",
   "execution_count": null,
   "metadata": {},
   "outputs": [],
   "source": [
    "#Q2 solution\n",
    "\n",
    "sentence = input(\"Please enter a sentense having more than three words\\n\")\n",
    "\n",
    "list_of_word = sentence.split()\n",
    "\n",
    "#(a) Print out the third word of sentence \n",
    "print('Third word of sentence : ', list_of_word[2])\n",
    "\n",
    "\n",
    "#(b) Print out every third word of sentence\n",
    "new_list = list_of_word[ 2: : 3]\n",
    "for word in new_list:\n",
    "        print(word)"
   ]
  },
  {
   "cell_type": "code",
   "execution_count": null,
   "metadata": {},
   "outputs": [],
   "source": [
    "#Q3 solution\n",
    "\n",
    "#(a) A list consisting of the integers 0 through 49\n",
    "print(\"A list consisting of the integers 0 through 49\")\n",
    "L = [i for i in range(50)]\n",
    "print(L)\n",
    "print()\n",
    "\n",
    "#(b) A list containing the squares of integers 1 through 50 \n",
    "print(\"A list containing the squares of integers 1 through 50 \")\n",
    "L = [i*i for i in range(51)]\n",
    "print(L)\n",
    "print()\n",
    "\n",
    "#(c) The list ['aa', 'bb', 'cc'.....] that ends with 26 th letter 'z'.\n",
    "string = 'abcdefghijklmnopqrstuvwxyz'\n",
    "print('The list  ')\n",
    "L = [letter * 2 for letter in string ]\n",
    "print(L)\n",
    "print()"
   ]
  },
  {
   "cell_type": "code",
   "execution_count": null,
   "metadata": {},
   "outputs": [],
   "source": [
    "#Q4 SOlution\n",
    "\n",
    "sentence = input(\"Please enter a sentense\\n\")\n",
    "\n",
    "list_of_word = sentence.split()\n",
    "\n",
    "list_of_unique_words = []\n",
    "count_of_unique_words = []\n",
    "\n",
    "for word in list_of_word:\n",
    "    cnt = list_of_word.count(word)\n",
    "    print(word , \"    \", cnt)"
   ]
  },
  {
   "cell_type": "code",
   "execution_count": null,
   "metadata": {},
   "outputs": [],
   "source": [
    "#Q5 SOlution\n",
    "\n",
    "count = 3\n",
    "list_of_strings = []\n",
    "list_of_modified_strings = []\n",
    "\n",
    "for i in range(count):\n",
    "    string = input(\"enter a string \\n\")\n",
    "    new_string = string[1:]\n",
    "    list_of_strings.append(string)\n",
    "    list_of_modified_strings.append(new_string)\n",
    "     \n",
    "print(\"The output is\\n\")  \n",
    "print(\"Original      Modified\")  \n",
    "for i in range(len(list_of_strings)):\n",
    "    print(list_of_strings[i], \"      \", list_of_modified_strings[i])"
   ]
  },
  {
   "cell_type": "code",
   "execution_count": null,
   "metadata": {},
   "outputs": [],
   "source": []
  }
 ],
 "metadata": {
  "kernelspec": {
   "display_name": "Python 3 (ipykernel)",
   "language": "python",
   "name": "python3"
  },
  "language_info": {
   "codemirror_mode": {
    "name": "ipython",
    "version": 3
   },
   "file_extension": ".py",
   "mimetype": "text/x-python",
   "name": "python",
   "nbconvert_exporter": "python",
   "pygments_lexer": "ipython3",
   "version": "3.11.7"
  }
 },
 "nbformat": 4,
 "nbformat_minor": 4
}
