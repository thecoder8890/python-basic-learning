{
 "cells": [
  {
   "cell_type": "markdown",
   "metadata": {},
   "source": [
    "<center> <img src =\"https://i.postimg.cc/1X8H7YYt/BITS-Logo.png\" width = \"400\" alt=\"BITS Pilani Logo\" /> </center>"
   ]
  },
  {
   "cell_type": "markdown",
   "metadata": {},
   "source": [
    "<font color='green'> <h1> <center> Custom Functions </center> </h1> </font>"
   ]
  },
  {
   "cell_type": "markdown",
   "metadata": {},
   "source": [
    "Lets explore some of examples of the custom functions. "
   ]
  },
  {
   "cell_type": "markdown",
   "metadata": {},
   "source": [
    "<b> Example 1 - Matches algorithm<b>"
   ]
  },
  {
   "cell_type": "markdown",
   "metadata": {},
   "source": [
    "Lets write a function called matches that takes two strings as arguments and returns how many matches there are between the strings. A match is where the two strings have same character at the same index. For instance, 'python' and 'path' match in the first, third and fourth characters, so it should return 3. "
   ]
  },
  {
   "cell_type": "code",
   "execution_count": 1,
   "metadata": {},
   "outputs": [
    {
     "name": "stdout",
     "output_type": "stream",
     "text": [
      "The match count is  3\n"
     ]
    }
   ],
   "source": [
    "def matches(first_string, second_string):\n",
    "    \n",
    "    #Initialize required variables\n",
    "    len1 = len(first_string)\n",
    "    len2 = len(second_string)\n",
    "    match_count = 0 \n",
    "\n",
    "    #Iterate over string letters to find out matches\n",
    "    for index in range(len1):\n",
    "        if index < len2 and first_string[index] == second_string[index]:\n",
    "            match_count = match_count + 1\n",
    "            \n",
    "    return match_count\n",
    "\n",
    "\n",
    "#Test the function\n",
    "match_count = matches('python', 'path')\n",
    "print(\"The match count is \", match_count)"
   ]
  },
  {
   "cell_type": "markdown",
   "metadata": {},
   "source": [
    "<b> Example 2 - Sorting Algorithm<b>"
   ]
  },
  {
   "cell_type": "markdown",
   "metadata": {},
   "source": [
    "Lets write a function merge that takes two already sorted listes of possibly different lengths and merges them into a single sorted list. <br>\n",
    "    -Do this using the sort method <br>"
   ]
  },
  {
   "cell_type": "code",
   "execution_count": 2,
   "metadata": {},
   "outputs": [
    {
     "name": "stdout",
     "output_type": "stream",
     "text": [
      "Using sort function\n",
      "Merged list using sort function  [1, 1, 2, 3, 4, 5, 11, 45, 67]\n",
      "\n"
     ]
    }
   ],
   "source": [
    "def merge(list1, list2):\n",
    "        merged_list = []\n",
    "        print(\"Using sort function\")\n",
    "        merged_list.extend(list1)\n",
    "        merged_list.extend(list2)\n",
    "        merged_list.sort()\n",
    "        return merged_list\n",
    "\n",
    "list1 = [1, 2, 3, 4, 5]\n",
    "list2 = [ 1, 11, 45, 67]\n",
    "\n",
    "merged_list = merge(list1, list2)\n",
    "print(\"Merged list using sort function \", merged_list)\n",
    "print()\n"
   ]
  },
  {
   "cell_type": "markdown",
   "metadata": {},
   "source": [
    "<b>Example 3 - Search Algorithm <b>\n",
    "    "
   ]
  },
  {
   "cell_type": "markdown",
   "metadata": {},
   "source": [
    "Lets write a function search that takes list as first input and element to be searched in that list as second input. Function then returns the index of element if its present in the list otherise returns -1.<br>\n",
    "-Do this using the index method <br>\n",
    "-Do this without using the index method"
   ]
  },
  {
   "cell_type": "code",
   "execution_count": 3,
   "metadata": {},
   "outputs": [
    {
     "name": "stdout",
     "output_type": "stream",
     "text": [
      "Using index function\n",
      "Using index function , returned index is  1\n",
      "Without using index function , returned index is  -1\n"
     ]
    }
   ],
   "source": [
    "# use_search that determines the search method: if True, it uses the built-in .index() function else performs a manual linear search.\n",
    "def search(list1, element, use_search):\n",
    "    \n",
    "    # Initialize `returned_index` to -1 (default for \"not found\" result)\n",
    "    returned_index = -1\n",
    "    # Check if `use_search` is True to determine the search method\n",
    "    if use_search:\n",
    "        print(\"Using index function\")\n",
    "        ## Use the built-in `index()` method to find the element's index\n",
    "        # This will raise an error if `element` is not in `list1`\n",
    "        returned_index = list1.index(element)\n",
    "    else:    \n",
    "        #Using linear search\n",
    "        #Initialize `index` variable to track current position in the list\n",
    "        index = 0\n",
    "        # Loop through each element in `list1`\n",
    "        for list_element in list1:\n",
    "            # Check if the current list element is equal to `element`\n",
    "            if list_element == element:\n",
    "                # Set `returned_index` to the current `index` where `element` is found\n",
    "                returned_index = index\n",
    "                \n",
    "                # Break out of the loop once the element is found\n",
    "                break\n",
    "            \n",
    "            # Increment `index` by 1 for the next iteration\n",
    "            index = index + 1\n",
    "                \n",
    "    return returned_index\n",
    "\n",
    "list1 = [1, 4, 9, 3, 0]\n",
    "element = 4\n",
    "\n",
    "returned_index = search(list1, element, use_search = True)\n",
    "print(\"Using index function , returned index is \", returned_index)\n",
    "\n",
    "element = 8\n",
    "returned_index = search(list1, element, use_search = False)\n",
    "print(\"Without using index function , returned index is \", returned_index)"
   ]
  },
  {
   "cell_type": "code",
   "execution_count": null,
   "metadata": {},
   "outputs": [],
   "source": []
  }
 ],
 "metadata": {
  "kernelspec": {
   "display_name": "Python 3 (ipykernel)",
   "language": "python",
   "name": "python3"
  },
  "language_info": {
   "codemirror_mode": {
    "name": "ipython",
    "version": 3
   },
   "file_extension": ".py",
   "mimetype": "text/x-python",
   "name": "python",
   "nbconvert_exporter": "python",
   "pygments_lexer": "ipython3",
   "version": "3.11.7"
  }
 },
 "nbformat": 4,
 "nbformat_minor": 4
}
