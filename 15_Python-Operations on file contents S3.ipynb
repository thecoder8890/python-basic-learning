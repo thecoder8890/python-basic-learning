{
 "cells": [
  {
   "cell_type": "markdown",
   "metadata": {},
   "source": [
    "<font color='green'> <h1> <center> Python-Operations on file contents </center> </h1> </font>"
   ]
  },
  {
   "cell_type": "markdown",
   "metadata": {},
   "source": [
    "Lets see some examples that helps us to carry out certain operations on the file contents like processing the contents of file."
   ]
  },
  {
   "cell_type": "markdown",
   "metadata": {},
   "source": [
    "<b> Example1 - finding a user defined word from the user defined file name<b>"
   ]
  },
  {
   "cell_type": "code",
   "execution_count": 2,
   "metadata": {},
   "outputs": [
    {
     "name": "stdout",
     "output_type": "stream",
     "text": [
      "Enter the file name \n",
      "marks.txt\n",
      "Enter word to be searched in file PPP\n",
      "PPP 10 7 9 \n"
     ]
    }
   ],
   "source": [
    "file_name = input(\"Enter the file name \\n\")\n",
    "word = input(\"Enter word to be searched in file \")\n",
    "\n",
    "try:\n",
    "    file = open(file_name)\n",
    "    \n",
    "    for line in file:\n",
    "        if line.find(word) == -1:\n",
    "            continue\n",
    "        print(line)    \n",
    "    file.close()            \n",
    "except:\n",
    "    print(\"File \", file_name, \" not found.\")\n",
    "    \n",
    "  "
   ]
  },
  {
   "cell_type": "markdown",
   "metadata": {},
   "source": [
    "<b> Example 2 - Reading content from file doing data processing on it <b> "
   ]
  },
  {
   "cell_type": "markdown",
   "metadata": {},
   "source": [
    "The file marks.txt contains the marks of students for different evaluation components. Lets do the addition of the marks for each student and then determine whether he passed or failed (passing marks = 40)."
   ]
  },
  {
   "cell_type": "code",
   "execution_count": 3,
   "metadata": {},
   "outputs": [
    {
     "name": "stdout",
     "output_type": "stream",
     "text": [
      "Studnet  Pravin  passed the exam.  Total marks obtained =  75\n",
      "\n",
      "Studnet  PYP  passed the exam.  Total marks obtained =  68\n",
      "\n",
      "Studnet  Pawar  passed the exam.  Total marks obtained =  69\n",
      "\n",
      "Studnet  PPP  failed to pass the exam.  Total marks obtained =  26\n",
      "\n"
     ]
    }
   ],
   "source": [
    "file_name = \"marks.txt\"\n",
    "\n",
    "try:\n",
    "    file = open(file_name)\n",
    "    \n",
    "    names = []\n",
    "    assign_marks = []\n",
    "    midsem_marks = []\n",
    "    compre_marks = []\n",
    "    \n",
    "    for line in file:\n",
    "        words = line.split()\n",
    "        \n",
    "        names.append(words[0])\n",
    "        assign_marks.append(int(words[1]))\n",
    "        midsem_marks.append(int(words[2]))\n",
    "        compre_marks.append(int(words[3]))\n",
    "        \n",
    "    index = 0     \n",
    "    for name in names:\n",
    "        total_marks = assign_marks[index] + midsem_marks[index] + compre_marks[index]\n",
    "        if total_marks <= 40 :\n",
    "            print(\"Studnet \", name, \" failed to pass the exam.\", \" Total marks obtained = \", total_marks)\n",
    "        else:\n",
    "            print(\"Studnet \", name, \" passed the exam.\", \" Total marks obtained = \", total_marks)\n",
    "        print()\n",
    "        index = index + 1\n",
    "        \n",
    "    file.close()    \n",
    "        \n",
    "except:\n",
    "    print(\"Some issue with file processing.\")"
   ]
  },
  {
   "cell_type": "code",
   "execution_count": null,
   "metadata": {},
   "outputs": [],
   "source": []
  }
 ],
 "metadata": {
  "kernelspec": {
   "display_name": "Python [conda env:base] *",
   "language": "python",
   "name": "conda-base-py"
  },
  "language_info": {
   "codemirror_mode": {
    "name": "ipython",
    "version": 3
   },
   "file_extension": ".py",
   "mimetype": "text/x-python",
   "name": "python",
   "nbconvert_exporter": "python",
   "pygments_lexer": "ipython3",
   "version": "3.12.7"
  }
 },
 "nbformat": 4,
 "nbformat_minor": 4
}
