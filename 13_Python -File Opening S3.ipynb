{
 "cells": [
  {
   "cell_type": "markdown",
   "metadata": {},
   "source": [
    "<center> <img src =\"https://i.postimg.cc/1X8H7YYt/BITS-Logo.png\" width = \"400\" alt=\"BITS Pilani Logo\" /> </center>"
   ]
  },
  {
   "cell_type": "markdown",
   "metadata": {},
   "source": [
    "<font color='green'> <h1> <center> Python -File Opening (and Reading) </center> </h1> </font>"
   ]
  },
  {
   "cell_type": "markdown",
   "metadata": {},
   "source": [
    "Data or text can be permanently in the files. The content present in the file are persisted even after the program execution is over.Python provides different ways by which files can be handled. "
   ]
  },
  {
   "cell_type": "markdown",
   "metadata": {},
   "source": [
    "<b> Ways to open the file<b>"
   ]
  },
  {
   "cell_type": "markdown",
   "metadata": {},
   "source": [
    "Assume that there is file named \"dummy_file.txt\" present in the current directory. Lets try to read the contents of that file using Python functions."
   ]
  },
  {
   "cell_type": "markdown",
   "metadata": {},
   "source": [
    "The content of the file looks as follows : <br>\n",
    "\n",
    "This is demo file. <br>\n",
    "It contains many lines in it. <br>\n",
    "Some lines are big, some are small. <br>\n",
    "Any python program can read this file. <br>\n",
    "Any pythonp program can write into this file. <br>"
   ]
  },
  {
   "cell_type": "markdown",
   "metadata": {},
   "source": [
    "<b>First way - using open function directly<b>"
   ]
  },
  {
   "cell_type": "code",
   "execution_count": 1,
   "metadata": {},
   "outputs": [
    {
     "data": {
      "text/plain": [
       "<_io.TextIOWrapper name='dummy_file.txt' mode='r' encoding='cp1252'>"
      ]
     },
     "execution_count": 1,
     "metadata": {},
     "output_type": "execute_result"
    }
   ],
   "source": [
    "file = open(\"dummy_file.txt\")  # use the open function which takes file name as input, file handle is obtained as result\n",
    "file"
   ]
  },
  {
   "cell_type": "code",
   "execution_count": 2,
   "metadata": {},
   "outputs": [
    {
     "data": {
      "text/plain": [
       "'This is demo file.\\nIt contains many lines in it.\\nSome lines are big, some are small.\\nAny python program can read this file.\\nAny python program can write into this file.'"
      ]
     },
     "execution_count": 2,
     "metadata": {},
     "output_type": "execute_result"
    }
   ],
   "source": [
    "file_content = file.read() # Read the content and store it in variable of type string\n",
    "file_content  # it contains new line characters in it "
   ]
  },
  {
   "cell_type": "markdown",
   "metadata": {},
   "source": [
    "<b> Second way - using list comprehensions<b>"
   ]
  },
  {
   "cell_type": "markdown",
   "metadata": {},
   "source": [
    "Look at the following code that demonstrates the process of reading the lines in a file using list comprehensions"
   ]
  },
  {
   "cell_type": "code",
   "execution_count": 3,
   "metadata": {},
   "outputs": [
    {
     "data": {
      "text/plain": [
       "['This is demo file.\\n',\n",
       " 'It contains many lines in it.\\n',\n",
       " 'Some lines are big, some are small.\\n',\n",
       " 'Any python program can read this file.\\n',\n",
       " 'Any python program can write into this file.']"
      ]
     },
     "execution_count": 3,
     "metadata": {},
     "output_type": "execute_result"
    }
   ],
   "source": [
    "lines = [ line for line in open(\"dummy_file.txt\")] # \n",
    "lines"
   ]
  },
  {
   "cell_type": "markdown",
   "metadata": {},
   "source": [
    "The above code generates the list containing lines of file as separate element of the list. For that purpose it uses list comprehension to iterate over the lines present in the file. "
   ]
  },
  {
   "cell_type": "markdown",
   "metadata": {},
   "source": [
    "Still it contains white space and newline character at the end of each line. That also can be removed using the list comprehensions."
   ]
  },
  {
   "cell_type": "code",
   "execution_count": 4,
   "metadata": {},
   "outputs": [
    {
     "data": {
      "text/plain": [
       "['This is demo file.',\n",
       " 'It contains many lines in it.',\n",
       " 'Some lines are big, some are small.',\n",
       " 'Any python program can read this file.',\n",
       " 'Any python program can write into this file.']"
      ]
     },
     "execution_count": 4,
     "metadata": {},
     "output_type": "execute_result"
    }
   ],
   "source": [
    "lines = [line.strip(\" \\n\") for line in open(\"dummy_file.txt\")]  #strip out \" \\n\" from each line that is read from file\n",
    "lines"
   ]
  },
  {
   "cell_type": "markdown",
   "metadata": {},
   "source": [
    "<b>Using file path<b>"
   ]
  },
  {
   "cell_type": "markdown",
   "metadata": {},
   "source": [
    "The file can be present in the directories. In that case, path needs to be provided while getting handle to that file. Assume that file \"dummy_file.txt\" is present in the \"dummy_dir\"."
   ]
  },
  {
   "cell_type": "code",
   "execution_count": 5,
   "metadata": {},
   "outputs": [
    {
     "data": {
      "text/plain": [
       "'This is demo file.\\nIt contains many lines in it.\\nSome lines are big, some are small.\\nAny python program can read this file.\\nAny python program can write into this file.'"
      ]
     },
     "execution_count": 5,
     "metadata": {},
     "output_type": "execute_result"
    }
   ],
   "source": [
    "file1 = open(\"dummy_dir/dummy_file.txt\") # provide the file path while getting the handle to the file\n",
    "file_content1 = file1.read()\n",
    "file_content1"
   ]
  },
  {
   "cell_type": "markdown",
   "metadata": {},
   "source": [
    "<b> Handing file not found error <b>"
   ]
  },
  {
   "cell_type": "markdown",
   "metadata": {},
   "source": [
    "What will happen if the required file is not present? Error will be shown as follows :"
   ]
  },
  {
   "cell_type": "code",
   "execution_count": 6,
   "metadata": {},
   "outputs": [
    {
     "ename": "FileNotFoundError",
     "evalue": "[Errno 2] No such file or directory: 'my_file.txt'",
     "output_type": "error",
     "traceback": [
      "\u001b[1;31m---------------------------------------------------------------------------\u001b[0m",
      "\u001b[1;31mFileNotFoundError\u001b[0m                         Traceback (most recent call last)",
      "Cell \u001b[1;32mIn[6], line 1\u001b[0m\n\u001b[1;32m----> 1\u001b[0m no_file \u001b[38;5;241m=\u001b[39m \u001b[38;5;28mopen\u001b[39m(\u001b[38;5;124m\"\u001b[39m\u001b[38;5;124mmy_file.txt\u001b[39m\u001b[38;5;124m\"\u001b[39m)\n",
      "File \u001b[1;32m~\\anaconda\\Lib\\site-packages\\IPython\\core\\interactiveshell.py:310\u001b[0m, in \u001b[0;36m_modified_open\u001b[1;34m(file, *args, **kwargs)\u001b[0m\n\u001b[0;32m    303\u001b[0m \u001b[38;5;28;01mif\u001b[39;00m file \u001b[38;5;129;01min\u001b[39;00m {\u001b[38;5;241m0\u001b[39m, \u001b[38;5;241m1\u001b[39m, \u001b[38;5;241m2\u001b[39m}:\n\u001b[0;32m    304\u001b[0m     \u001b[38;5;28;01mraise\u001b[39;00m \u001b[38;5;167;01mValueError\u001b[39;00m(\n\u001b[0;32m    305\u001b[0m         \u001b[38;5;124mf\u001b[39m\u001b[38;5;124m\"\u001b[39m\u001b[38;5;124mIPython won\u001b[39m\u001b[38;5;124m'\u001b[39m\u001b[38;5;124mt let you open fd=\u001b[39m\u001b[38;5;132;01m{\u001b[39;00mfile\u001b[38;5;132;01m}\u001b[39;00m\u001b[38;5;124m by default \u001b[39m\u001b[38;5;124m\"\u001b[39m\n\u001b[0;32m    306\u001b[0m         \u001b[38;5;124m\"\u001b[39m\u001b[38;5;124mas it is likely to crash IPython. If you know what you are doing, \u001b[39m\u001b[38;5;124m\"\u001b[39m\n\u001b[0;32m    307\u001b[0m         \u001b[38;5;124m\"\u001b[39m\u001b[38;5;124myou can use builtins\u001b[39m\u001b[38;5;124m'\u001b[39m\u001b[38;5;124m open.\u001b[39m\u001b[38;5;124m\"\u001b[39m\n\u001b[0;32m    308\u001b[0m     )\n\u001b[1;32m--> 310\u001b[0m \u001b[38;5;28;01mreturn\u001b[39;00m io_open(file, \u001b[38;5;241m*\u001b[39margs, \u001b[38;5;241m*\u001b[39m\u001b[38;5;241m*\u001b[39mkwargs)\n",
      "\u001b[1;31mFileNotFoundError\u001b[0m: [Errno 2] No such file or directory: 'my_file.txt'"
     ]
    }
   ],
   "source": [
    "no_file = open(\"my_file.txt\")"
   ]
  },
  {
   "cell_type": "markdown",
   "metadata": {},
   "source": [
    "Error trace is shown as a result of this failed open operation. This can be handler gracefully using the try / catch block."
   ]
  },
  {
   "cell_type": "code",
   "execution_count": 7,
   "metadata": {},
   "outputs": [
    {
     "name": "stdout",
     "output_type": "stream",
     "text": [
      "File not present\n"
     ]
    }
   ],
   "source": [
    "try:\n",
    "    no_file = open(\"my_file.txt\")\n",
    "    content = no_file.read()\n",
    "except :\n",
    "    print(\"File not present\")   "
   ]
  },
  {
   "cell_type": "markdown",
   "metadata": {},
   "source": [
    "This further can be improved by accepting the file name from the user and telling them whether the file exists or not."
   ]
  },
  {
   "cell_type": "code",
   "execution_count": 9,
   "metadata": {},
   "outputs": [
    {
     "name": "stdin",
     "output_type": "stream",
     "text": [
      "Enter the file name \n",
      " dummy_file.txt\n"
     ]
    },
    {
     "name": "stdout",
     "output_type": "stream",
     "text": [
      "File  dummy_file.txt  is present\n"
     ]
    }
   ],
   "source": [
    "file_name = input(\"Enter the file name \\n\")\n",
    "try:\n",
    "    file = open(file_name)\n",
    "    print(\"File \", file_name, \" is present\")\n",
    "except:\n",
    "    print(\"File \", file_name, \" is not present\")\n",
    "    print(\"Recheck the file name entered\")    "
   ]
  },
  {
   "cell_type": "code",
   "execution_count": 10,
   "metadata": {},
   "outputs": [
    {
     "name": "stdout",
     "output_type": "stream",
     "text": [
      "The file  dummy_file.txt  contains  5  lines. \n",
      "Line  1 contains  18  characters. \n",
      "Line  2 contains  29  characters. \n",
      "Line  3 contains  35  characters. \n",
      "Line  4 contains  38  characters. \n",
      "Line  5 contains  44  characters. \n"
     ]
    }
   ],
   "source": [
    "file_name = \"dummy_file.txt\"\n",
    "\n",
    "file = open(file_name)  # get handle to the file\n",
    "\n",
    "file_content = file.read()  # read the contents of file\n",
    "\n",
    "lines = file_content.split(\"\\n\") # determine line by end line character\n",
    "\n",
    "print(\"The file \", file_name, \" contains \", len(lines), \" lines. \")\n",
    "\n",
    "line_no = 1\n",
    "for line in lines:\n",
    "    print(\"Line \", line_no, \"contains \", len(line), \" characters. \")\n",
    "    line_no = line_no + 1"
   ]
  },
  {
   "cell_type": "code",
   "execution_count": 14,
   "metadata": {},
   "outputs": [
    {
     "name": "stdout",
     "output_type": "stream",
     "text": [
      "The file  dummy_file.txt  contains  5  lines. \n",
      "Line  1 contains  4  words. \n",
      "Line  2 contains  6  words. \n",
      "Line  3 contains  7  words. \n",
      "Line  4 contains  7  words. \n",
      "Line  5 contains  8  words. \n"
     ]
    }
   ],
   "source": [
    "file_name = \"dummy_file.txt\"\n",
    "\n",
    "file = open(file_name)  # get handle to the file\n",
    "\n",
    "file_content = file.read()  # read the contents of file\n",
    "\n",
    "lines = file_content.split(\"\\n\") # determine line by end line character\n",
    "\n",
    "print(\"The file \", file_name, \" contains \", len(lines), \" lines. \")\n",
    "\n",
    "line_no = 1\n",
    "for line in lines:\n",
    "    word = line.split()\n",
    "    print(\"Line \", line_no, \"contains \", len(word), \" words. \")\n",
    "    line_no = line_no + 1\n"
   ]
  },
  {
   "cell_type": "code",
   "execution_count": null,
   "metadata": {},
   "outputs": [],
   "source": []
  }
 ],
 "metadata": {
  "kernelspec": {
   "display_name": "Python [conda env:base] *",
   "language": "python",
   "name": "conda-base-py"
  },
  "language_info": {
   "codemirror_mode": {
    "name": "ipython",
    "version": 3
   },
   "file_extension": ".py",
   "mimetype": "text/x-python",
   "name": "python",
   "nbconvert_exporter": "python",
   "pygments_lexer": "ipython3",
   "version": "3.12.7"
  }
 },
 "nbformat": 4,
 "nbformat_minor": 4
}
